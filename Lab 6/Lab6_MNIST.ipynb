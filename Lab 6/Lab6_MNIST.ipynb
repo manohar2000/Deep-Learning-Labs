{
  "nbformat": 4,
  "nbformat_minor": 0,
  "metadata": {
    "kernelspec": {
      "display_name": "Python 3",
      "language": "python",
      "name": "python3"
    },
    "language_info": {
      "codemirror_mode": {
        "name": "ipython",
        "version": 3
      },
      "file_extension": ".py",
      "mimetype": "text/x-python",
      "name": "python",
      "nbconvert_exporter": "python",
      "pygments_lexer": "ipython3",
      "version": "3.8.3"
    },
    "colab": {
      "name": "Lab6_MNIST.ipynb",
      "provenance": []
    },
    "accelerator": "GPU"
  },
  "cells": [
    {
      "cell_type": "code",
      "metadata": {
        "id": "Cgu87qxVb3sL"
      },
      "source": [
        "# importing the libraries\n",
        "from tensorflow.keras.datasets import mnist\n",
        "from tensorflow.keras.models import Sequential \n",
        "from tensorflow.keras.layers import Dense, Flatten, Dropout, BatchNormalization, Conv2D, MaxPool2D\n",
        "from keras.utils import np_utils\n",
        "\n",
        "import numpy as np\n",
        "import matplotlib.pyplot as plt\n",
        "%matplotlib inline"
      ],
      "execution_count": 1,
      "outputs": []
    },
    {
      "cell_type": "code",
      "metadata": {
        "id": "_0SYm-iJb3sQ",
        "outputId": "9664026e-b091-4f74-d849-551f6520dcf9",
        "colab": {
          "base_uri": "https://localhost:8080/",
          "height": 71
        }
      },
      "source": [
        "# importing the MNIST dataset\n",
        "from keras.datasets import mnist\n",
        "import matplotlib.pyplot as plt\n",
        "\n",
        "(X_train, y_train), (X_test, y_test) = mnist.load_data()"
      ],
      "execution_count": 2,
      "outputs": [
        {
          "output_type": "stream",
          "text": [
            "Downloading data from https://storage.googleapis.com/tensorflow/tf-keras-datasets/mnist.npz\n",
            "11493376/11490434 [==============================] - 0s 0us/step\n"
          ],
          "name": "stdout"
        }
      ]
    },
    {
      "cell_type": "code",
      "metadata": {
        "id": "OCs_DlCJb3sU",
        "outputId": "ab1ad5f3-d11b-44b8-b377-c24afb80b70a",
        "colab": {
          "base_uri": "https://localhost:8080/",
          "height": 85
        }
      },
      "source": [
        "print(X_train.shape)\n",
        "print(y_train.shape)\n",
        "print(X_test.shape)\n",
        "print(y_test.shape)"
      ],
      "execution_count": 3,
      "outputs": [
        {
          "output_type": "stream",
          "text": [
            "(60000, 28, 28)\n",
            "(60000,)\n",
            "(10000, 28, 28)\n",
            "(10000,)\n"
          ],
          "name": "stdout"
        }
      ]
    },
    {
      "cell_type": "code",
      "metadata": {
        "id": "XZmyNH3ub3sg"
      },
      "source": [
        "X_train = X_train / 255\n",
        "X_test = X_test / 255"
      ],
      "execution_count": 4,
      "outputs": []
    },
    {
      "cell_type": "code",
      "metadata": {
        "id": "Nq7GsHsrb3sj",
        "outputId": "eb90c3be-b2d3-4376-9e38-2fa25d4009bf",
        "colab": {
          "base_uri": "https://localhost:8080/",
          "height": 51
        }
      },
      "source": [
        "print(X_train.shape)\n",
        "print(X_test.shape)"
      ],
      "execution_count": 5,
      "outputs": [
        {
          "output_type": "stream",
          "text": [
            "(60000, 28, 28)\n",
            "(10000, 28, 28)\n"
          ],
          "name": "stdout"
        }
      ]
    },
    {
      "cell_type": "code",
      "metadata": {
        "id": "cL25g_ifb3sn"
      },
      "source": [
        "X_train = X_train.reshape((X_train.shape[0], 28, 28, 1)).astype('float32')\n",
        "X_test = X_test.reshape((X_test.shape[0], 28, 28, 1)).astype('float32')"
      ],
      "execution_count": 6,
      "outputs": []
    },
    {
      "cell_type": "code",
      "metadata": {
        "id": "e-wNH-AUb3sw"
      },
      "source": [
        "y_train = np_utils.to_categorical(y_train)\n",
        "y_test = np_utils.to_categorical(y_test)\n",
        "num_classes = y_test.shape[1]"
      ],
      "execution_count": 7,
      "outputs": []
    },
    {
      "cell_type": "code",
      "metadata": {
        "id": "3C57DINcb3s1"
      },
      "source": [
        "model = Sequential()\n",
        "model.add(Conv2D(filters = 64, kernel_size = (3, 3), strides = 1, activation = 'relu', input_shape = (28, 28, 1)))\n",
        "model.add(BatchNormalization())\n",
        "model.add(MaxPool2D(pool_size = (2, 2)))\n",
        "model.add(Dropout(0.2))\n",
        "model.add(Flatten())\n",
        "model.add(Dense(128, activation = 'relu'))\n",
        "model.add(Dense(num_classes, activation = 'softmax'))    "
      ],
      "execution_count": 8,
      "outputs": []
    },
    {
      "cell_type": "code",
      "metadata": {
        "id": "kj_EbSWnb3s3",
        "outputId": "6bb4417a-bc2c-4a59-c037-d508c6a5994b",
        "colab": {
          "base_uri": "https://localhost:8080/",
          "height": 391
        }
      },
      "source": [
        "model.summary()"
      ],
      "execution_count": 9,
      "outputs": [
        {
          "output_type": "stream",
          "text": [
            "Model: \"sequential\"\n",
            "_________________________________________________________________\n",
            "Layer (type)                 Output Shape              Param #   \n",
            "=================================================================\n",
            "conv2d (Conv2D)              (None, 26, 26, 64)        640       \n",
            "_________________________________________________________________\n",
            "batch_normalization (BatchNo (None, 26, 26, 64)        256       \n",
            "_________________________________________________________________\n",
            "max_pooling2d (MaxPooling2D) (None, 13, 13, 64)        0         \n",
            "_________________________________________________________________\n",
            "dropout (Dropout)            (None, 13, 13, 64)        0         \n",
            "_________________________________________________________________\n",
            "flatten (Flatten)            (None, 10816)             0         \n",
            "_________________________________________________________________\n",
            "dense (Dense)                (None, 128)               1384576   \n",
            "_________________________________________________________________\n",
            "dense_1 (Dense)              (None, 10)                1290      \n",
            "=================================================================\n",
            "Total params: 1,386,762\n",
            "Trainable params: 1,386,634\n",
            "Non-trainable params: 128\n",
            "_________________________________________________________________\n"
          ],
          "name": "stdout"
        }
      ]
    },
    {
      "cell_type": "code",
      "metadata": {
        "id": "XVYjOiWfb3s9"
      },
      "source": [
        "model.compile(optimizer = 'adam', loss = 'categorical_crossentropy', metrics = ['accuracy'])"
      ],
      "execution_count": 10,
      "outputs": []
    },
    {
      "cell_type": "code",
      "metadata": {
        "id": "EZKkYZFDb3s_"
      },
      "source": [
        "import warnings\n",
        "warnings.filterwarnings('ignore')"
      ],
      "execution_count": 11,
      "outputs": []
    },
    {
      "cell_type": "code",
      "metadata": {
        "id": "FPSwHSXSb3tC",
        "outputId": "ee66cb96-9fe8-4ad8-99ef-62e8aa05f38e",
        "colab": {
          "base_uri": "https://localhost:8080/",
          "height": 377
        }
      },
      "source": [
        "hist = model.fit(X_train, y_train, batch_size=32, epochs=10)"
      ],
      "execution_count": 12,
      "outputs": [
        {
          "output_type": "stream",
          "text": [
            "Epoch 1/10\n",
            "1875/1875 [==============================] - 5s 3ms/step - loss: 0.1210 - accuracy: 0.9635\n",
            "Epoch 2/10\n",
            "1875/1875 [==============================] - 5s 3ms/step - loss: 0.0503 - accuracy: 0.9840\n",
            "Epoch 3/10\n",
            "1875/1875 [==============================] - 5s 3ms/step - loss: 0.0331 - accuracy: 0.9893\n",
            "Epoch 4/10\n",
            "1875/1875 [==============================] - 5s 3ms/step - loss: 0.0259 - accuracy: 0.9915\n",
            "Epoch 5/10\n",
            "1875/1875 [==============================] - 5s 3ms/step - loss: 0.0215 - accuracy: 0.9932\n",
            "Epoch 6/10\n",
            "1875/1875 [==============================] - 5s 3ms/step - loss: 0.0173 - accuracy: 0.9943\n",
            "Epoch 7/10\n",
            "1875/1875 [==============================] - 5s 3ms/step - loss: 0.0159 - accuracy: 0.9954\n",
            "Epoch 8/10\n",
            "1875/1875 [==============================] - 5s 3ms/step - loss: 0.0147 - accuracy: 0.9956\n",
            "Epoch 9/10\n",
            "1875/1875 [==============================] - 5s 3ms/step - loss: 0.0122 - accuracy: 0.9965\n",
            "Epoch 10/10\n",
            "1875/1875 [==============================] - 5s 3ms/step - loss: 0.0148 - accuracy: 0.9958\n"
          ],
          "name": "stdout"
        }
      ]
    },
    {
      "cell_type": "code",
      "metadata": {
        "id": "mxLcWizWb3tE",
        "outputId": "7e422eb2-03ca-4432-93bf-83262ada50ce",
        "colab": {
          "base_uri": "https://localhost:8080/",
          "height": 88
        }
      },
      "source": [
        "score = model.evaluate(X_train, y_train)\n",
        "print(\"Training loss : \", score[0])\n",
        "print(\"Training loss : \", score[1])"
      ],
      "execution_count": 13,
      "outputs": [
        {
          "output_type": "stream",
          "text": [
            "1875/1875 [==============================] - 4s 2ms/step - loss: 0.0070 - accuracy: 0.9978\n",
            "Training loss :  0.007007904350757599\n",
            "Training loss :  0.9978166818618774\n"
          ],
          "name": "stdout"
        }
      ]
    },
    {
      "cell_type": "code",
      "metadata": {
        "id": "Eo-CDo6Zb3tI",
        "outputId": "7c2dfbc4-5263-4d85-be14-a2929a15d260",
        "colab": {
          "base_uri": "https://localhost:8080/",
          "height": 88
        }
      },
      "source": [
        "score = model.evaluate(X_test, y_test)\n",
        "print(\"Testing loss : \", score[0])\n",
        "print(\"Testing loss : \", score[1])"
      ],
      "execution_count": 14,
      "outputs": [
        {
          "output_type": "stream",
          "text": [
            "313/313 [==============================] - 1s 3ms/step - loss: 0.0937 - accuracy: 0.9862\n",
            "Testing loss :  0.09370795637369156\n",
            "Testing loss :  0.9861999750137329\n"
          ],
          "name": "stdout"
        }
      ]
    },
    {
      "cell_type": "code",
      "metadata": {
        "id": "FxDHHCOmb3tL",
        "outputId": "37572f9b-5848-4c3b-c92f-951767d0cde3",
        "colab": {
          "base_uri": "https://localhost:8080/",
          "height": 295
        }
      },
      "source": [
        "plt.plot(hist.history['accuracy'])\n",
        "plt.title(\"Accuracy Plot\")\n",
        "plt.ylabel('accuracy')\n",
        "plt.xlabel('epoch')\n",
        "plt.legend(['train'], loc='lower right')\n",
        "plt.show()"
      ],
      "execution_count": 15,
      "outputs": [
        {
          "output_type": "display_data",
          "data": {
            "image/png": "[encoded data removed]",
            "text/plain": [
              "<Figure size 432x288 with 1 Axes>"
            ]
          },
          "metadata": {
            "tags": [],
            "needs_background": "light"
          }
        }
      ]
    },
    {
      "cell_type": "code",
      "metadata": {
        "id": "KPkg9tCcb3tN",
        "outputId": "71f7d6e2-2d7c-4f08-c11e-24fe27696fa2",
        "colab": {
          "base_uri": "https://localhost:8080/",
          "height": 295
        }
      },
      "source": [
        "plt.plot(hist.history['loss'])\n",
        "plt.title(\"Loss Plot\")\n",
        "plt.ylabel('accuracy')\n",
        "plt.xlabel('epoch')\n",
        "plt.legend(['train'], loc='lower right')\n",
        "plt.show()"
      ],
      "execution_count": 16,
      "outputs": [
        {
          "output_type": "display_data",
          "data": {
            "image/png": "[encoded data removed]",
            "text/plain": [
              "<Figure size 432x288 with 1 Axes>"
            ]
          },
          "metadata": {
            "tags": [],
            "needs_background": "light"
          }
        }
      ]
    },
    {
      "cell_type": "code",
      "metadata": {
        "id": "tU9CJzkJb3tP",
        "outputId": "7056fdb4-a6d3-4673-f4f8-ecedf11e8d41",
        "colab": {
          "base_uri": "https://localhost:8080/",
          "height": 279
        }
      },
      "source": [
        "img = X_test[10]\n",
        "plt.imshow(img.reshape(28, 28), cmap = 'binary')\n",
        "plt.xticks([])\n",
        "plt.yticks([])\n",
        "plt.xlabel(np.argmax(y_test[10]))"
      ],
      "execution_count": 17,
      "outputs": [
        {
          "output_type": "execute_result",
          "data": {
            "text/plain": [
              "Text(0.5, 0, '0')"
            ]
          },
          "metadata": {
            "tags": []
          },
          "execution_count": 17
        },
        {
          "output_type": "display_data",
          "data": {
            "image/png": "[encoded data removed]",
            "text/plain": [
              "<Figure size 432x288 with 1 Axes>"
            ]
          },
          "metadata": {
            "tags": []
          }
        }
      ]
    },
    {
      "cell_type": "code",
      "metadata": {
        "id": "B9KLEuWHb3tS",
        "outputId": "b2980628-0436-47f0-c28e-ef77de01f160",
        "colab": {
          "base_uri": "https://localhost:8080/",
          "height": 51
        }
      },
      "source": [
        "pred = model.predict(img.reshape(-1, 28, 28, 1))\n",
        "print(pred)"
      ],
      "execution_count": 18,
      "outputs": [
        {
          "output_type": "stream",
          "text": [
            "[[1.0000000e+00 1.5457162e-27 9.3049720e-15 7.5328705e-29 1.9523048e-29\n",
            "  3.6212627e-31 9.8276806e-28 6.1798111e-25 1.6262409e-22 4.2357161e-18]]\n"
          ],
          "name": "stdout"
        }
      ]
    },
    {
      "cell_type": "code",
      "metadata": {
        "id": "fpW7kosnb3tU",
        "outputId": "c2a63564-044e-4324-a87b-3d4bc13e8327",
        "colab": {
          "base_uri": "https://localhost:8080/",
          "height": 34
        }
      },
      "source": [
        "print(\"Predicted digit : \", np.argmax(pred))"
      ],
      "execution_count": 19,
      "outputs": [
        {
          "output_type": "stream",
          "text": [
            "Predicted digit :  0\n"
          ],
          "name": "stdout"
        }
      ]
    },
    {
      "cell_type": "markdown",
      "metadata": {
        "id": "nsURxfZJb3tX"
      },
      "source": [
        "# EXPLORATION PART"
      ]
    },
    {
      "cell_type": "code",
      "metadata": {
        "id": "FhEaS4SLb3tX",
        "outputId": "7fe59640-5960-4893-c5f6-edfe2adb3d54",
        "colab": {
          "base_uri": "https://localhost:8080/",
          "height": 394
        }
      },
      "source": [
        "## Number of filters\n",
        "\n",
        "filters = [4, 32, 64, 128]\n",
        "models_filter, history_filter = [], []\n",
        "\n",
        "for i, f in enumerate(filters):\n",
        "    model = Sequential()\n",
        "    model.add(Conv2D(filters = f, kernel_size = (3, 3), strides = 1, activation = 'relu', input_shape = (28, 28, 1)))\n",
        "    model.add(MaxPool2D(pool_size = (2, 2)))\n",
        "    model.add(Flatten())\n",
        "    model.add(Dense(num_classes, activation = 'softmax'))\n",
        "    \n",
        "    \n",
        "    models_filter.append(model)\n",
        "    \n",
        "    model.compile(loss = 'categorical_crossentropy', optimizer = 'adam', metrics = ['accuracy'])\n",
        "    \n",
        "    \n",
        "    hist = model.fit(X_train, y_train, epochs = 5, batch_size = 256, verbose = 0)\n",
        "    history_filter.append(hist)\n",
        "    \n",
        "    score = model.evaluate(X_train, y_train)\n",
        "    print(\"Model : \", i)\n",
        "    print(\"Training loss : \", score[0])\n",
        "    print(\"Training accuracy : \", score[1])\n",
        "    print(\"***********************************************\")    \n"
      ],
      "execution_count": 20,
      "outputs": [
        {
          "output_type": "stream",
          "text": [
            "1875/1875 [==============================] - 3s 2ms/step - loss: 0.1924 - accuracy: 0.9440\n",
            "Model :  0\n",
            "Training loss :  0.1924014687538147\n",
            "Training accuracy :  0.9440333247184753\n",
            "***********************************************\n",
            "   1/1875 [..............................] - ETA: 0s - loss: 0.0591 - accuracy: 1.0000WARNING:tensorflow:Callbacks method `on_test_batch_end` is slow compared to the batch time (batch time: 0.0014s vs `on_test_batch_end` time: 0.0026s). Check your callbacks.\n",
            "1875/1875 [==============================] - 3s 2ms/step - loss: 0.0725 - accuracy: 0.9802\n",
            "Model :  1\n",
            "Training loss :  0.07250899076461792\n",
            "Training accuracy :  0.9801999926567078\n",
            "***********************************************\n",
            "1875/1875 [==============================] - 3s 2ms/step - loss: 0.0574 - accuracy: 0.9842\n",
            "Model :  2\n",
            "Training loss :  0.057412292808294296\n",
            "Training accuracy :  0.9842166900634766\n",
            "***********************************************\n",
            "1875/1875 [==============================] - 4s 2ms/step - loss: 0.0414 - accuracy: 0.9887\n",
            "Model :  3\n",
            "Training loss :  0.0414435938000679\n",
            "Training accuracy :  0.9886833429336548\n",
            "***********************************************\n"
          ],
          "name": "stdout"
        }
      ]
    },
    {
      "cell_type": "markdown",
      "metadata": {
        "id": "F84OGAn4b3ta"
      },
      "source": [
        "We observe that with the increase in the number of filters the model accuracy increases as more features are captured by different features."
      ]
    },
    {
      "cell_type": "code",
      "metadata": {
        "id": "nhVh3LDdb3tb",
        "outputId": "3fe4d43d-d0d3-423a-a503-b69265ce1d55",
        "colab": {
          "base_uri": "https://localhost:8080/",
          "height": 1000
        }
      },
      "source": [
        "for i, model in enumerate(models_filter):\n",
        "    print(\"No. of filters = \", filters[i])\n",
        "    model.summary()\n",
        "    print(\"-------------------------------------------------------------\")"
      ],
      "execution_count": 21,
      "outputs": [
        {
          "output_type": "stream",
          "text": [
            "No. of filters =  4\n",
            "Model: \"sequential_1\"\n",
            "_________________________________________________________________\n",
            "Layer (type)                 Output Shape              Param #   \n",
            "=================================================================\n",
            "conv2d_1 (Conv2D)            (None, 26, 26, 4)         40        \n",
            "_________________________________________________________________\n",
            "max_pooling2d_1 (MaxPooling2 (None, 13, 13, 4)         0         \n",
            "_________________________________________________________________\n",
            "flatten_1 (Flatten)          (None, 676)               0         \n",
            "_________________________________________________________________\n",
            "dense_2 (Dense)              (None, 10)                6770      \n",
            "=================================================================\n",
            "Total params: 6,810\n",
            "Trainable params: 6,810\n",
            "Non-trainable params: 0\n",
            "_________________________________________________________________\n",
            "-------------------------------------------------------------\n",
            "No. of filters =  32\n",
            "Model: \"sequential_2\"\n",
            "_________________________________________________________________\n",
            "Layer (type)                 Output Shape              Param #   \n",
            "=================================================================\n",
            "conv2d_2 (Conv2D)            (None, 26, 26, 32)        320       \n",
            "_________________________________________________________________\n",
            "max_pooling2d_2 (MaxPooling2 (None, 13, 13, 32)        0         \n",
            "_________________________________________________________________\n",
            "flatten_2 (Flatten)          (None, 5408)              0         \n",
            "_________________________________________________________________\n",
            "dense_3 (Dense)              (None, 10)                54090     \n",
            "=================================================================\n",
            "Total params: 54,410\n",
            "Trainable params: 54,410\n",
            "Non-trainable params: 0\n",
            "_________________________________________________________________\n",
            "-------------------------------------------------------------\n",
            "No. of filters =  64\n",
            "Model: \"sequential_3\"\n",
            "_________________________________________________________________\n",
            "Layer (type)                 Output Shape              Param #   \n",
            "=================================================================\n",
            "conv2d_3 (Conv2D)            (None, 26, 26, 64)        640       \n",
            "_________________________________________________________________\n",
            "max_pooling2d_3 (MaxPooling2 (None, 13, 13, 64)        0         \n",
            "_________________________________________________________________\n",
            "flatten_3 (Flatten)          (None, 10816)             0         \n",
            "_________________________________________________________________\n",
            "dense_4 (Dense)              (None, 10)                108170    \n",
            "=================================================================\n",
            "Total params: 108,810\n",
            "Trainable params: 108,810\n",
            "Non-trainable params: 0\n",
            "_________________________________________________________________\n",
            "-------------------------------------------------------------\n",
            "No. of filters =  128\n",
            "Model: \"sequential_4\"\n",
            "_________________________________________________________________\n",
            "Layer (type)                 Output Shape              Param #   \n",
            "=================================================================\n",
            "conv2d_4 (Conv2D)            (None, 26, 26, 128)       1280      \n",
            "_________________________________________________________________\n",
            "max_pooling2d_4 (MaxPooling2 (None, 13, 13, 128)       0         \n",
            "_________________________________________________________________\n",
            "flatten_4 (Flatten)          (None, 21632)             0         \n",
            "_________________________________________________________________\n",
            "dense_5 (Dense)              (None, 10)                216330    \n",
            "=================================================================\n",
            "Total params: 217,610\n",
            "Trainable params: 217,610\n",
            "Non-trainable params: 0\n",
            "_________________________________________________________________\n",
            "-------------------------------------------------------------\n"
          ],
          "name": "stdout"
        }
      ]
    },
    {
      "cell_type": "code",
      "metadata": {
        "id": "4iNnbzNUb3td",
        "outputId": "db2f6ea3-7b13-4f7e-8a20-3ad876543254",
        "colab": {
          "base_uri": "https://localhost:8080/",
          "height": 497
        }
      },
      "source": [
        "# plotting the accuracy curve\n",
        "\n",
        "plt.figure(figsize = (8, 8))\n",
        "for i in range(len(history_filter)):\n",
        "    plt.subplot(2, 2, i + 1)\n",
        "    plt.plot(history_filter[i].history['accuracy'])\n",
        "    plt.ylabel('accuracy')\n",
        "    plt.xlabel('epoch')\n",
        "    plt.legend(['train'], loc='lower right')\n",
        "plt.show()"
      ],
      "execution_count": 22,
      "outputs": [
        {
          "output_type": "display_data",
          "data": {
            "image/png": "[encoded data removed]",
            "text/plain": [
              "<Figure size 576x576 with 4 Axes>"
            ]
          },
          "metadata": {
            "tags": [],
            "needs_background": "light"
          }
        }
      ]
    },
    {
      "cell_type": "code",
      "metadata": {
        "id": "Z-n1M_GQb3tg",
        "outputId": "b695a9a4-0b61-4dd2-f353-fdf4ce91c1fa",
        "colab": {
          "base_uri": "https://localhost:8080/",
          "height": 499
        }
      },
      "source": [
        "# plotting the loss curve\n",
        "\n",
        "plt.figure(figsize = (8, 8))\n",
        "for i in range(len(history_filter)):\n",
        "    plt.subplot(2, 2, i + 1)\n",
        "    plt.plot(history_filter[i].history['loss'])\n",
        "    plt.ylabel('loss')\n",
        "    plt.xlabel('epoch')\n",
        "    plt.legend(['train'], loc='lower right')\n",
        "plt.show()"
      ],
      "execution_count": 23,
      "outputs": [
        {
          "output_type": "display_data",
          "data": {
            "image/png": "[encoded data removed]",
            "text/plain": [
              "<Figure size 576x576 with 4 Axes>"
            ]
          },
          "metadata": {
            "tags": [],
            "needs_background": "light"
          }
        }
      ]
    },
    {
      "cell_type": "code",
      "metadata": {
        "id": "42Tjz3ZXb3tj",
        "outputId": "912e9b6c-dccc-45a1-c6b3-b5acef8cc629",
        "colab": {
          "base_uri": "https://localhost:8080/",
          "height": 377
        }
      },
      "source": [
        "# number of layers\n",
        "\n",
        "layers = [1, 2, 3, 4]\n",
        "models_layer, history_layer = [], []\n",
        "\n",
        "for i, layer in enumerate(layers):\n",
        "    model = Sequential()\n",
        "    model.add(Conv2D(filters = 32, kernel_size = (3, 3), strides = 1, activation = 'relu', input_shape = (28, 28, 1)))\n",
        "    for j in range(layer - 1):\n",
        "        model.add(Conv2D(filters = 32, kernel_size = (3, 3), strides = 1, activation = 'relu'))\n",
        "    \n",
        "    model.add(Flatten())\n",
        "    model.add(Dense(num_classes, activation = 'softmax'))\n",
        "    # model summary\n",
        "    models_layer.append(model)\n",
        "    # compiling the model\n",
        "    model.compile(loss = 'categorical_crossentropy', optimizer = 'adam', metrics = ['accuracy'])\n",
        "    \n",
        "    # fitting the model on training data\n",
        "    hist = model.fit(X_train, y_train, epochs = 5, batch_size = 256, verbose = 0)\n",
        "    history_layer.append(hist)\n",
        "    # evaluation on the training data.\n",
        "    score = model.evaluate(X_train, y_train)\n",
        "    print(\"Model : \", i)\n",
        "    print(\"Training loss : \", score[0])\n",
        "    print(\"Training accuracy : \", score[1])\n",
        "    print(\"-------------------------------------------------\") \n"
      ],
      "execution_count": 24,
      "outputs": [
        {
          "output_type": "stream",
          "text": [
            "1875/1875 [==============================] - 3s 2ms/step - loss: 0.0401 - accuracy: 0.9896\n",
            "Model :  0\n",
            "Training loss :  0.04006590694189072\n",
            "Training accuracy :  0.9895833134651184\n",
            "-------------------------------------------------\n",
            "1875/1875 [==============================] - 3s 2ms/step - loss: 0.0229 - accuracy: 0.9938\n",
            "Model :  1\n",
            "Training loss :  0.022897955030202866\n",
            "Training accuracy :  0.9938333630561829\n",
            "-------------------------------------------------\n",
            "1875/1875 [==============================] - 3s 2ms/step - loss: 0.0171 - accuracy: 0.9949\n",
            "Model :  2\n",
            "Training loss :  0.017139790579676628\n",
            "Training accuracy :  0.9948999881744385\n",
            "-------------------------------------------------\n",
            "1875/1875 [==============================] - 4s 2ms/step - loss: 0.0179 - accuracy: 0.9947\n",
            "Model :  3\n",
            "Training loss :  0.01788543350994587\n",
            "Training accuracy :  0.9946666955947876\n",
            "-------------------------------------------------\n"
          ],
          "name": "stdout"
        }
      ]
    },
    {
      "cell_type": "code",
      "metadata": {
        "id": "27CrMEGNb3tl",
        "outputId": "44c89c13-eda2-48cd-cd70-962918725fa2",
        "colab": {
          "base_uri": "https://localhost:8080/",
          "height": 1000
        }
      },
      "source": [
        "# plotting the model summaries\n",
        "\n",
        "for i, model in enumerate(models_filter):\n",
        "    print(\"No. of Conv Layers = \", layers[i])\n",
        "    model.summary()\n",
        "    print(\"-------------------------------------------------------------\")"
      ],
      "execution_count": 25,
      "outputs": [
        {
          "output_type": "stream",
          "text": [
            "No. of Conv Layers =  1\n",
            "Model: \"sequential_1\"\n",
            "_________________________________________________________________\n",
            "Layer (type)                 Output Shape              Param #   \n",
            "=================================================================\n",
            "conv2d_1 (Conv2D)            (None, 26, 26, 4)         40        \n",
            "_________________________________________________________________\n",
            "max_pooling2d_1 (MaxPooling2 (None, 13, 13, 4)         0         \n",
            "_________________________________________________________________\n",
            "flatten_1 (Flatten)          (None, 676)               0         \n",
            "_________________________________________________________________\n",
            "dense_2 (Dense)              (None, 10)                6770      \n",
            "=================================================================\n",
            "Total params: 6,810\n",
            "Trainable params: 6,810\n",
            "Non-trainable params: 0\n",
            "_________________________________________________________________\n",
            "-------------------------------------------------------------\n",
            "No. of Conv Layers =  2\n",
            "Model: \"sequential_2\"\n",
            "_________________________________________________________________\n",
            "Layer (type)                 Output Shape              Param #   \n",
            "=================================================================\n",
            "conv2d_2 (Conv2D)            (None, 26, 26, 32)        320       \n",
            "_________________________________________________________________\n",
            "max_pooling2d_2 (MaxPooling2 (None, 13, 13, 32)        0         \n",
            "_________________________________________________________________\n",
            "flatten_2 (Flatten)          (None, 5408)              0         \n",
            "_________________________________________________________________\n",
            "dense_3 (Dense)              (None, 10)                54090     \n",
            "=================================================================\n",
            "Total params: 54,410\n",
            "Trainable params: 54,410\n",
            "Non-trainable params: 0\n",
            "_________________________________________________________________\n",
            "-------------------------------------------------------------\n",
            "No. of Conv Layers =  3\n",
            "Model: \"sequential_3\"\n",
            "_________________________________________________________________\n",
            "Layer (type)                 Output Shape              Param #   \n",
            "=================================================================\n",
            "conv2d_3 (Conv2D)            (None, 26, 26, 64)        640       \n",
            "_________________________________________________________________\n",
            "max_pooling2d_3 (MaxPooling2 (None, 13, 13, 64)        0         \n",
            "_________________________________________________________________\n",
            "flatten_3 (Flatten)          (None, 10816)             0         \n",
            "_________________________________________________________________\n",
            "dense_4 (Dense)              (None, 10)                108170    \n",
            "=================================================================\n",
            "Total params: 108,810\n",
            "Trainable params: 108,810\n",
            "Non-trainable params: 0\n",
            "_________________________________________________________________\n",
            "-------------------------------------------------------------\n",
            "No. of Conv Layers =  4\n",
            "Model: \"sequential_4\"\n",
            "_________________________________________________________________\n",
            "Layer (type)                 Output Shape              Param #   \n",
            "=================================================================\n",
            "conv2d_4 (Conv2D)            (None, 26, 26, 128)       1280      \n",
            "_________________________________________________________________\n",
            "max_pooling2d_4 (MaxPooling2 (None, 13, 13, 128)       0         \n",
            "_________________________________________________________________\n",
            "flatten_4 (Flatten)          (None, 21632)             0         \n",
            "_________________________________________________________________\n",
            "dense_5 (Dense)              (None, 10)                216330    \n",
            "=================================================================\n",
            "Total params: 217,610\n",
            "Trainable params: 217,610\n",
            "Non-trainable params: 0\n",
            "_________________________________________________________________\n",
            "-------------------------------------------------------------\n"
          ],
          "name": "stdout"
        }
      ]
    },
    {
      "cell_type": "markdown",
      "metadata": {
        "id": "q64N7kz4b3tp"
      },
      "source": [
        "Again we can observe that with the increase in the number of layers, the model accuracy increases a bit. Also the amount of trainable parameters increases a lot thereby increasing the training time."
      ]
    },
    {
      "cell_type": "code",
      "metadata": {
        "id": "h7AsKxs4b3tp",
        "outputId": "8c04c337-68f4-4448-a3d7-28448c9bafc8",
        "colab": {
          "base_uri": "https://localhost:8080/",
          "height": 497
        }
      },
      "source": [
        "# plotting the accuracy curve\n",
        "\n",
        "plt.figure(figsize = (8, 8))\n",
        "for i in range(len(history_filter)):\n",
        "    plt.subplot(2, 2, i + 1)\n",
        "    plt.plot(history_filter[i].history['accuracy'])\n",
        "    plt.ylabel('accuracy')\n",
        "    plt.xlabel('epoch')\n",
        "    plt.legend(['train'], loc='lower right')\n",
        "plt.show()"
      ],
      "execution_count": 26,
      "outputs": [
        {
          "output_type": "display_data",
          "data": {
            "image/png": "[encoded data removed]",
            "text/plain": [
              "<Figure size 576x576 with 4 Axes>"
            ]
          },
          "metadata": {
            "tags": [],
            "needs_background": "light"
          }
        }
      ]
    },
    {
      "cell_type": "code",
      "metadata": {
        "id": "IUOQxdqeb3ts",
        "outputId": "ee33933e-9746-457a-d400-4c4e96fdc0f6",
        "colab": {
          "base_uri": "https://localhost:8080/",
          "height": 499
        }
      },
      "source": [
        "# plotting the loss curve\n",
        "\n",
        "plt.figure(figsize = (8, 8))\n",
        "for i in range(len(history_filter)):\n",
        "    plt.subplot(2, 2, i + 1)\n",
        "    plt.plot(history_filter[i].history['loss'])\n",
        "    plt.ylabel('loss')\n",
        "    plt.xlabel('epoch')\n",
        "    plt.legend(['train'], loc='lower right')\n",
        "plt.show()"
      ],
      "execution_count": 27,
      "outputs": [
        {
          "output_type": "display_data",
          "data": {
            "image/png": "[encoded data removed]",
            "text/plain": [
              "<Figure size 576x576 with 4 Axes>"
            ]
          },
          "metadata": {
            "tags": [],
            "needs_background": "light"
          }
        }
      ]
    },
    {
      "cell_type": "code",
      "metadata": {
        "id": "EK6nF_6Nb3tu",
        "outputId": "1d13341b-6316-4cf9-80d4-bd4018465943",
        "colab": {
          "base_uri": "https://localhost:8080/",
          "height": 279
        }
      },
      "source": [
        "# testing on unseen data\n",
        "\n",
        "img = X_test[20]\n",
        "plt.imshow(img.reshape(28, 28), cmap = 'gray')\n",
        "plt.xticks([])\n",
        "plt.yticks([])\n",
        "plt.xlabel(\"Actual digit : \" + str(np.argmax(y_test[20])))"
      ],
      "execution_count": 28,
      "outputs": [
        {
          "output_type": "execute_result",
          "data": {
            "text/plain": [
              "Text(0.5, 0, 'Actual digit : 9')"
            ]
          },
          "metadata": {
            "tags": []
          },
          "execution_count": 28
        },
        {
          "output_type": "display_data",
          "data": {
            "image/png": "[encoded data removed]",
            "text/plain": [
              "<Figure size 432x288 with 1 Axes>"
            ]
          },
          "metadata": {
            "tags": []
          }
        }
      ]
    },
    {
      "cell_type": "code",
      "metadata": {
        "id": "byyZie9pb3tx",
        "outputId": "972c5f3a-5842-4db6-b3e8-7d4fdcd841f7",
        "colab": {
          "base_uri": "https://localhost:8080/",
          "height": 326
        }
      },
      "source": [
        "for i, model in enumerate(models_filter):\n",
        "    pred = model.predict(img.reshape(-1, 28, 28, 1))\n",
        "    print(\"Model : \", i + 1)\n",
        "    print(\"No of filters : \", filters[i])\n",
        "    print(\"Predicted digit : \", np.argmax(pred))\n",
        "    print(\"----------------------------------------\")"
      ],
      "execution_count": 29,
      "outputs": [
        {
          "output_type": "stream",
          "text": [
            "Model :  1\n",
            "No of filters :  4\n",
            "Predicted digit :  9\n",
            "----------------------------------------\n",
            "Model :  2\n",
            "No of filters :  32\n",
            "Predicted digit :  9\n",
            "----------------------------------------\n",
            "Model :  3\n",
            "No of filters :  64\n",
            "Predicted digit :  9\n",
            "----------------------------------------\n",
            "WARNING:tensorflow:5 out of the last 5 calls to <function Model.make_predict_function.<locals>.predict_function at 0x7f606616b268> triggered tf.function retracing. Tracing is expensive and the excessive number of tracings could be due to (1) creating @tf.function repeatedly in a loop, (2) passing tensors with different shapes, (3) passing Python objects instead of tensors. For (1), please define your @tf.function outside of the loop. For (2), @tf.function has experimental_relax_shapes=True option that relaxes argument shapes that can avoid unnecessary retracing. For (3), please refer to https://www.tensorflow.org/tutorials/customization/performance#python_or_tensor_args and https://www.tensorflow.org/api_docs/python/tf/function for  more details.\n",
            "Model :  4\n",
            "No of filters :  128\n",
            "Predicted digit :  9\n",
            "----------------------------------------\n"
          ],
          "name": "stdout"
        }
      ]
    },
    {
      "cell_type": "code",
      "metadata": {
        "id": "mdi7cjVZb3tz",
        "outputId": "2f185a5e-c729-494d-e5bd-a70467450d5f",
        "colab": {
          "base_uri": "https://localhost:8080/",
          "height": 289
        }
      },
      "source": [
        "for i, model in enumerate(models_filter):\n",
        "    pred = model.predict(img.reshape(-1, 28, 28, 1))\n",
        "    print(\"Model : \", i + 1)\n",
        "    print(\"No of layers : \", layers[i])\n",
        "    print(\"Predicted digit : \", np.argmax(pred))\n",
        "    print(\"----------------------------------------\")"
      ],
      "execution_count": 30,
      "outputs": [
        {
          "output_type": "stream",
          "text": [
            "Model :  1\n",
            "No of layers :  1\n",
            "Predicted digit :  9\n",
            "----------------------------------------\n",
            "Model :  2\n",
            "No of layers :  2\n",
            "Predicted digit :  9\n",
            "----------------------------------------\n",
            "Model :  3\n",
            "No of layers :  3\n",
            "Predicted digit :  9\n",
            "----------------------------------------\n",
            "Model :  4\n",
            "No of layers :  4\n",
            "Predicted digit :  9\n",
            "----------------------------------------\n"
          ],
          "name": "stdout"
        }
      ]
    }
  ]
}